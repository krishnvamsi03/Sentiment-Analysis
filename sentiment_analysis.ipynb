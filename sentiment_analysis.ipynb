{
  "nbformat": 4,
  "nbformat_minor": 0,
  "metadata": {
    "colab": {
      "name": "sentiment_analysis.ipynb",
      "version": "0.3.2",
      "provenance": [],
      "collapsed_sections": []
    },
    "kernelspec": {
      "name": "python3",
      "display_name": "Python 3"
    },
    "accelerator": "GPU"
  },
  "cells": [
    {
      "cell_type": "code",
      "metadata": {
        "id": "Rhc-VqepegTd",
        "colab_type": "code",
        "outputId": "9d545e51-7874-4414-e3eb-e9e3ce9679a8",
        "colab": {
          "base_uri": "https://localhost:8080/",
          "height": 68
        }
      },
      "source": [
        "import nltk\n",
        "nltk.download('stopwords')"
      ],
      "execution_count": 0,
      "outputs": [
        {
          "output_type": "stream",
          "text": [
            "[nltk_data] Downloading package stopwords to /root/nltk_data...\n",
            "[nltk_data]   Unzipping corpora/stopwords.zip.\n"
          ],
          "name": "stdout"
        },
        {
          "output_type": "execute_result",
          "data": {
            "text/plain": [
              "True"
            ]
          },
          "metadata": {
            "tags": []
          },
          "execution_count": 1
        }
      ]
    },
    {
      "cell_type": "code",
      "metadata": {
        "id": "ZUpD3Vewd60t",
        "colab_type": "code",
        "colab": {}
      },
      "source": [
        "import pandas as pd\n",
        "import numpy as np\n",
        "import matplotlib.pyplot as plt\n",
        "import nltk\n",
        "import re\n",
        "from nltk.corpus import stopwords\n",
        "from nltk.stem.porter import PorterStemmer"
      ],
      "execution_count": 0,
      "outputs": []
    },
    {
      "cell_type": "code",
      "metadata": {
        "id": "mXVTmndJePXc",
        "colab_type": "code",
        "colab": {}
      },
      "source": [
        "dataset = pd.read_csv('Tweets.csv')"
      ],
      "execution_count": 0,
      "outputs": []
    },
    {
      "cell_type": "code",
      "metadata": {
        "id": "ADVkzHcXM5Ps",
        "colab_type": "code",
        "outputId": "e6e658b7-e945-4048-f6a3-49d22de5034d",
        "colab": {
          "base_uri": "https://localhost:8080/",
          "height": 445
        }
      },
      "source": [
        "dataset.head()"
      ],
      "execution_count": 0,
      "outputs": [
        {
          "output_type": "execute_result",
          "data": {
            "text/html": [
              "<div>\n",
              "<style scoped>\n",
              "    .dataframe tbody tr th:only-of-type {\n",
              "        vertical-align: middle;\n",
              "    }\n",
              "\n",
              "    .dataframe tbody tr th {\n",
              "        vertical-align: top;\n",
              "    }\n",
              "\n",
              "    .dataframe thead th {\n",
              "        text-align: right;\n",
              "    }\n",
              "</style>\n",
              "<table border=\"1\" class=\"dataframe\">\n",
              "  <thead>\n",
              "    <tr style=\"text-align: right;\">\n",
              "      <th></th>\n",
              "      <th>tweet_id</th>\n",
              "      <th>airline_sentiment</th>\n",
              "      <th>airline_sentiment_confidence</th>\n",
              "      <th>negativereason</th>\n",
              "      <th>negativereason_confidence</th>\n",
              "      <th>airline</th>\n",
              "      <th>airline_sentiment_gold</th>\n",
              "      <th>name</th>\n",
              "      <th>negativereason_gold</th>\n",
              "      <th>retweet_count</th>\n",
              "      <th>text</th>\n",
              "      <th>tweet_coord</th>\n",
              "      <th>tweet_created</th>\n",
              "      <th>tweet_location</th>\n",
              "      <th>user_timezone</th>\n",
              "    </tr>\n",
              "  </thead>\n",
              "  <tbody>\n",
              "    <tr>\n",
              "      <th>0</th>\n",
              "      <td>570306133677760513</td>\n",
              "      <td>neutral</td>\n",
              "      <td>1.0000</td>\n",
              "      <td>NaN</td>\n",
              "      <td>NaN</td>\n",
              "      <td>Virgin America</td>\n",
              "      <td>NaN</td>\n",
              "      <td>cairdin</td>\n",
              "      <td>NaN</td>\n",
              "      <td>0</td>\n",
              "      <td>@VirginAmerica What @dhepburn said.</td>\n",
              "      <td>NaN</td>\n",
              "      <td>2015-02-24 11:35:52 -0800</td>\n",
              "      <td>NaN</td>\n",
              "      <td>Eastern Time (US &amp; Canada)</td>\n",
              "    </tr>\n",
              "    <tr>\n",
              "      <th>1</th>\n",
              "      <td>570301130888122368</td>\n",
              "      <td>positive</td>\n",
              "      <td>0.3486</td>\n",
              "      <td>NaN</td>\n",
              "      <td>0.0000</td>\n",
              "      <td>Virgin America</td>\n",
              "      <td>NaN</td>\n",
              "      <td>jnardino</td>\n",
              "      <td>NaN</td>\n",
              "      <td>0</td>\n",
              "      <td>@VirginAmerica plus you've added commercials t...</td>\n",
              "      <td>NaN</td>\n",
              "      <td>2015-02-24 11:15:59 -0800</td>\n",
              "      <td>NaN</td>\n",
              "      <td>Pacific Time (US &amp; Canada)</td>\n",
              "    </tr>\n",
              "    <tr>\n",
              "      <th>2</th>\n",
              "      <td>570301083672813571</td>\n",
              "      <td>neutral</td>\n",
              "      <td>0.6837</td>\n",
              "      <td>NaN</td>\n",
              "      <td>NaN</td>\n",
              "      <td>Virgin America</td>\n",
              "      <td>NaN</td>\n",
              "      <td>yvonnalynn</td>\n",
              "      <td>NaN</td>\n",
              "      <td>0</td>\n",
              "      <td>@VirginAmerica I didn't today... Must mean I n...</td>\n",
              "      <td>NaN</td>\n",
              "      <td>2015-02-24 11:15:48 -0800</td>\n",
              "      <td>Lets Play</td>\n",
              "      <td>Central Time (US &amp; Canada)</td>\n",
              "    </tr>\n",
              "    <tr>\n",
              "      <th>3</th>\n",
              "      <td>570301031407624196</td>\n",
              "      <td>negative</td>\n",
              "      <td>1.0000</td>\n",
              "      <td>Bad Flight</td>\n",
              "      <td>0.7033</td>\n",
              "      <td>Virgin America</td>\n",
              "      <td>NaN</td>\n",
              "      <td>jnardino</td>\n",
              "      <td>NaN</td>\n",
              "      <td>0</td>\n",
              "      <td>@VirginAmerica it's really aggressive to blast...</td>\n",
              "      <td>NaN</td>\n",
              "      <td>2015-02-24 11:15:36 -0800</td>\n",
              "      <td>NaN</td>\n",
              "      <td>Pacific Time (US &amp; Canada)</td>\n",
              "    </tr>\n",
              "    <tr>\n",
              "      <th>4</th>\n",
              "      <td>570300817074462722</td>\n",
              "      <td>negative</td>\n",
              "      <td>1.0000</td>\n",
              "      <td>Can't Tell</td>\n",
              "      <td>1.0000</td>\n",
              "      <td>Virgin America</td>\n",
              "      <td>NaN</td>\n",
              "      <td>jnardino</td>\n",
              "      <td>NaN</td>\n",
              "      <td>0</td>\n",
              "      <td>@VirginAmerica and it's a really big bad thing...</td>\n",
              "      <td>NaN</td>\n",
              "      <td>2015-02-24 11:14:45 -0800</td>\n",
              "      <td>NaN</td>\n",
              "      <td>Pacific Time (US &amp; Canada)</td>\n",
              "    </tr>\n",
              "  </tbody>\n",
              "</table>\n",
              "</div>"
            ],
            "text/plain": [
              "             tweet_id  ...               user_timezone\n",
              "0  570306133677760513  ...  Eastern Time (US & Canada)\n",
              "1  570301130888122368  ...  Pacific Time (US & Canada)\n",
              "2  570301083672813571  ...  Central Time (US & Canada)\n",
              "3  570301031407624196  ...  Pacific Time (US & Canada)\n",
              "4  570300817074462722  ...  Pacific Time (US & Canada)\n",
              "\n",
              "[5 rows x 15 columns]"
            ]
          },
          "metadata": {
            "tags": []
          },
          "execution_count": 34
        }
      ]
    },
    {
      "cell_type": "code",
      "metadata": {
        "id": "cvTVAWkSNEvW",
        "colab_type": "code",
        "outputId": "c922d49c-95b9-4256-9844-8df0c15270b8",
        "colab": {
          "base_uri": "https://localhost:8080/",
          "height": 350
        }
      },
      "source": [
        "dataset['airline'].value_counts().plot.bar()"
      ],
      "execution_count": 0,
      "outputs": [
        {
          "output_type": "execute_result",
          "data": {
            "text/plain": [
              "<matplotlib.axes._subplots.AxesSubplot at 0x7f100fc40a20>"
            ]
          },
          "metadata": {
            "tags": []
          },
          "execution_count": 35
        },
        {
          "output_type": "display_data",
          "data": {
            "image/png": "[encoded data removed]",
            "text/plain": [
              "<Figure size 432x288 with 1 Axes>"
            ]
          },
          "metadata": {
            "tags": []
          }
        }
      ]
    },
    {
      "cell_type": "code",
      "metadata": {
        "id": "bbw4UFKJNOt5",
        "colab_type": "code",
        "outputId": "3d9e3dcc-f06f-44fd-8c6a-ce00560c2ebb",
        "colab": {
          "base_uri": "https://localhost:8080/",
          "height": 364
        }
      },
      "source": [
        "sentiments_X_airlines = pd.crosstab(dataset['airline'], dataset['airline_sentiment'])\n",
        "sentiments_X_airlines.plot.bar()"
      ],
      "execution_count": 0,
      "outputs": [
        {
          "output_type": "execute_result",
          "data": {
            "text/plain": [
              "<matplotlib.axes._subplots.AxesSubplot at 0x7f1037008ba8>"
            ]
          },
          "metadata": {
            "tags": []
          },
          "execution_count": 36
        },
        {
          "output_type": "display_data",
          "data": {
            "image/png": "[encoded data removed]",
            "text/plain": [
              "<Figure size 432x288 with 1 Axes>"
            ]
          },
          "metadata": {
            "tags": []
          }
        }
      ]
    },
    {
      "cell_type": "code",
      "metadata": {
        "id": "YPCcCkYaeQbB",
        "colab_type": "code",
        "colab": {}
      },
      "source": [
        "X = dataset.iloc[:, 10].values"
      ],
      "execution_count": 0,
      "outputs": []
    },
    {
      "cell_type": "code",
      "metadata": {
        "id": "45-4J9Px5x45",
        "colab_type": "code",
        "outputId": "71e60255-bd34-473f-8f5f-19b3c2c26255",
        "colab": {
          "base_uri": "https://localhost:8080/",
          "height": 34
        }
      },
      "source": [
        "X[0]"
      ],
      "execution_count": 0,
      "outputs": [
        {
          "output_type": "execute_result",
          "data": {
            "text/plain": [
              "'@VirginAmerica What @dhepburn said.'"
            ]
          },
          "metadata": {
            "tags": []
          },
          "execution_count": 38
        }
      ]
    },
    {
      "cell_type": "code",
      "metadata": {
        "id": "Xn7eDnx9eXQQ",
        "colab_type": "code",
        "colab": {}
      },
      "source": [
        "\n",
        "def processing(tweets):\n",
        "  sentiments = []\n",
        "  for i in range(len(tweets)):\n",
        "      temp = re.sub('^[a-zA-Z]', ' ', tweets[i])\n",
        "      temp = re.sub('[^\\w\\s]', ' ', temp)\n",
        "      temp = temp.lower()\n",
        "      temp = temp.split()\n",
        "      ps = PorterStemmer()\n",
        "      temp = [ps.stem(word) for word in temp if word not in set(stopwords.words('english'))]\n",
        "      temp = ' '.join(temp)\n",
        "      sentiments.append(temp)\n",
        "      \n",
        "  return sentiments\n",
        "    \n",
        "sentiments = processing(X)"
      ],
      "execution_count": 0,
      "outputs": []
    },
    {
      "cell_type": "code",
      "metadata": {
        "id": "QIFPGZqQ66Mr",
        "colab_type": "code",
        "outputId": "fdf2754b-a238-4ab2-ae1c-60909901fe05",
        "colab": {
          "base_uri": "https://localhost:8080/",
          "height": 34
        }
      },
      "source": [
        "sentiments[0]"
      ],
      "execution_count": 0,
      "outputs": [
        {
          "output_type": "execute_result",
          "data": {
            "text/plain": [
              "'virginamerica dhepburn said'"
            ]
          },
          "metadata": {
            "tags": []
          },
          "execution_count": 40
        }
      ]
    },
    {
      "cell_type": "code",
      "metadata": {
        "id": "qIPLEnr1fCQG",
        "colab_type": "code",
        "colab": {}
      },
      "source": [
        "from sklearn.feature_extraction.text import CountVectorizer\n",
        "cv = CountVectorizer(max_features = 2500, max_df = 0.8, min_df = 5)\n",
        "X = cv.fit_transform(sentiments).toarray()"
      ],
      "execution_count": 0,
      "outputs": []
    },
    {
      "cell_type": "code",
      "metadata": {
        "id": "jatGIsmdfs4a",
        "colab_type": "code",
        "colab": {}
      },
      "source": [
        "labels, unique = pd.factorize(dataset.iloc[:, 1])\n",
        "y = np.array(labels)"
      ],
      "execution_count": 0,
      "outputs": []
    },
    {
      "cell_type": "code",
      "metadata": {
        "id": "VEfHEnbZzuZo",
        "colab_type": "code",
        "colab": {}
      },
      "source": [
        "X = X.astype(np.float32)\n",
        "#y = y.astype(np.float32)"
      ],
      "execution_count": 0,
      "outputs": []
    },
    {
      "cell_type": "code",
      "metadata": {
        "id": "bo4R-mb5gYZ2",
        "colab_type": "code",
        "colab": {}
      },
      "source": [
        "from sklearn.model_selection import train_test_split\n",
        "X_train, X_test, y_train, y_test = train_test_split(X, y, test_size = 0.2, random_state = 0)"
      ],
      "execution_count": 0,
      "outputs": []
    },
    {
      "cell_type": "code",
      "metadata": {
        "id": "MOZi9jy7kGzK",
        "colab_type": "code",
        "outputId": "79eb84ad-5dbe-457d-e020-621c25a25d5c",
        "colab": {
          "base_uri": "https://localhost:8080/",
          "height": 34
        }
      },
      "source": [
        "X_train.shape"
      ],
      "execution_count": 0,
      "outputs": [
        {
          "output_type": "execute_result",
          "data": {
            "text/plain": [
              "(11712, 2440)"
            ]
          },
          "metadata": {
            "tags": []
          },
          "execution_count": 45
        }
      ]
    },
    {
      "cell_type": "code",
      "metadata": {
        "id": "dEt3ZNXhkWcH",
        "colab_type": "code",
        "outputId": "d14b636a-9a5d-42f5-9b84-713af413941e",
        "colab": {
          "base_uri": "https://localhost:8080/",
          "height": 34
        }
      },
      "source": [
        "y_train.shape"
      ],
      "execution_count": 0,
      "outputs": [
        {
          "output_type": "execute_result",
          "data": {
            "text/plain": [
              "(11712,)"
            ]
          },
          "metadata": {
            "tags": []
          },
          "execution_count": 46
        }
      ]
    },
    {
      "cell_type": "code",
      "metadata": {
        "id": "WAdCsTpaj4ky",
        "colab_type": "code",
        "colab": {}
      },
      "source": [
        "import tensorflow as tf\n",
        "\n",
        "def model(features, labels, mode):\n",
        "\n",
        "  layer1 = tf.layers.dense(features, units = 512, activation = tf.nn.relu)\n",
        "  layer2 = tf.layers.dense(layer1, units = 1024, activation = tf.nn.relu)\n",
        "  layer3 = tf.layers.dense(layer2, units = 1024, activation = tf.nn.relu)\n",
        "  \n",
        "  output = tf.layers.dense(layer3, units = 3)\n",
        "\n",
        "  probabilities = tf.nn.softmax(logits = output)\n",
        "  classes = tf.argmax(tf.nn.softmax(logits = output), 1)\n",
        "  \n",
        "  if mode == tf.estimator.ModeKeys.PREDICT:\n",
        "    return tf.estimator.EstimatorSpec(mode, predictions = classes)\n",
        "\n",
        "  labels = tf.reshape(labels, [-1])\n",
        "  loss = tf.reduce_mean(tf.nn.sparse_softmax_cross_entropy_with_logits(logits = output, \n",
        "                                                                       labels = tf.cast(labels, dtype = tf.int64)),\n",
        "                        name = 'loss_fn')\n",
        "  \n",
        "  \n",
        "  if mode == tf.estimator.ModeKeys.TRAIN:\n",
        "\n",
        "    optimizer = tf.train.RMSPropOptimizer(0.03)\n",
        "    train_op = optimizer.minimize(\n",
        "        loss = loss,\n",
        "        global_step = tf.train.get_global_step()\n",
        "    )\n",
        "    expo = {\n",
        "        'acc' : tf.metrics.accuracy(labels = labels, predictions = classes, name = 'accuracy_fn')\n",
        "    }\n",
        "    \n",
        "    return tf.estimator.EstimatorSpec(mode = mode, train_op = train_op, loss = loss, export_outputs = expo)\n",
        "  \n",
        "  eval_metrics_op = {\n",
        "      'accuracy' : tf.metrics.accuracy(labels = labels, predictions = classes)\n",
        "  }\n",
        "  return tf.estimator.EstimatorSpec(mode = mode, eval_metric_ops = eval_metrics_op, loss = loss)\n",
        "  \n"
      ],
      "execution_count": 0,
      "outputs": []
    },
    {
      "cell_type": "code",
      "metadata": {
        "id": "jYIgl5pH9cmr",
        "colab_type": "code",
        "colab": {}
      },
      "source": [
        "logging_hook = {\n",
        "    'loss': 'loss_fn',\n",
        "    \n",
        "}\n",
        "\n",
        "tensor_hook = tf.train.LoggingTensorHook(\n",
        "    tensors = logging_hook, every_n_iter = 100\n",
        ")"
      ],
      "execution_count": 0,
      "outputs": []
    },
    {
      "cell_type": "code",
      "metadata": {
        "id": "KS6sBrOCBkQK",
        "colab_type": "code",
        "colab": {}
      },
      "source": [
        "tf.logging.set_verbosity(tf.logging.INFO)"
      ],
      "execution_count": 0,
      "outputs": []
    },
    {
      "cell_type": "code",
      "metadata": {
        "id": "UrrKb_Hr9QJG",
        "colab_type": "code",
        "outputId": "5d9f009b-fa0a-44b5-9386-1651009367cb",
        "colab": {
          "base_uri": "https://localhost:8080/",
          "height": 190
        }
      },
      "source": [
        "classifier = tf.estimator.Estimator(model_fn = model)"
      ],
      "execution_count": 0,
      "outputs": [
        {
          "output_type": "stream",
          "text": [
            "I0721 14:23:40.238542 139708533356416 estimator.py:1790] Using default config.\n",
            "W0721 14:23:40.245610 139708533356416 estimator.py:1811] Using temporary folder as model directory: /tmp/tmpg9mf8_mq\n",
            "I0721 14:23:40.250251 139708533356416 estimator.py:209] Using config: {'_model_dir': '/tmp/tmpg9mf8_mq', '_tf_random_seed': None, '_save_summary_steps': 100, '_save_checkpoints_steps': None, '_save_checkpoints_secs': 600, '_session_config': allow_soft_placement: true\n",
            "graph_options {\n",
            "  rewrite_options {\n",
            "    meta_optimizer_iterations: ONE\n",
            "  }\n",
            "}\n",
            ", '_keep_checkpoint_max': 5, '_keep_checkpoint_every_n_hours': 10000, '_log_step_count_steps': 100, '_train_distribute': None, '_device_fn': None, '_protocol': None, '_eval_distribute': None, '_experimental_distribute': None, '_experimental_max_worker_delay_secs': None, '_service': None, '_cluster_spec': <tensorflow.python.training.server_lib.ClusterSpec object at 0x7f100be977b8>, '_task_type': 'worker', '_task_id': 0, '_global_id_in_cluster': 0, '_master': '', '_evaluation_master': '', '_is_chief': True, '_num_ps_replicas': 0, '_num_worker_replicas': 1}\n"
          ],
          "name": "stderr"
        }
      ]
    },
    {
      "cell_type": "code",
      "metadata": {
        "id": "LIlzy-qj92k3",
        "colab_type": "code",
        "colab": {}
      },
      "source": [
        "train_fn = tf.estimator.inputs.numpy_input_fn(\n",
        "    x = X_train,\n",
        "    y = y_train,\n",
        "    num_epochs = None,\n",
        "    batch_size = 100,\n",
        "    shuffle = True,   \n",
        ")"
      ],
      "execution_count": 0,
      "outputs": []
    },
    {
      "cell_type": "code",
      "metadata": {
        "id": "gbCp-gdU-tsW",
        "colab_type": "code",
        "colab": {}
      },
      "source": [
        "test_fn = tf.estimator.inputs.numpy_input_fn(\n",
        "    x = X_test,\n",
        "    y = y_test,\n",
        "    num_epochs = 1,\n",
        "    shuffle = False,\n",
        ")"
      ],
      "execution_count": 0,
      "outputs": []
    },
    {
      "cell_type": "code",
      "metadata": {
        "id": "_ZOjImFg-_zH",
        "colab_type": "code",
        "outputId": "091cb18b-3df6-4fde-fce7-6897a6a34a3f",
        "colab": {
          "base_uri": "https://localhost:8080/",
          "height": 700
        }
      },
      "source": [
        "classifier.train(\n",
        "    input_fn = train_fn,\n",
        "    steps = 1000,\n",
        "    hooks = [tensor_hook]\n",
        ")\n"
      ],
      "execution_count": 0,
      "outputs": [
        {
          "output_type": "stream",
          "text": [
            "I0721 14:23:40.337533 139708533356416 estimator.py:1145] Calling model_fn.\n",
            "I0721 14:23:40.776323 139708533356416 estimator.py:1147] Done calling model_fn.\n",
            "I0721 14:23:40.781131 139708533356416 basic_session_run_hooks.py:541] Create CheckpointSaverHook.\n",
            "I0721 14:23:40.990510 139708533356416 monitored_session.py:240] Graph was finalized.\n",
            "I0721 14:23:41.166618 139708533356416 session_manager.py:500] Running local_init_op.\n",
            "I0721 14:23:41.183883 139708533356416 session_manager.py:502] Done running local_init_op.\n",
            "I0721 14:23:41.518913 139708533356416 basic_session_run_hooks.py:606] Saving checkpoints for 0 into /tmp/tmpg9mf8_mq/model.ckpt.\n",
            "I0721 14:23:41.776329 139708533356416 basic_session_run_hooks.py:262] loss = 1.116581\n",
            "I0721 14:23:41.782530 139708533356416 basic_session_run_hooks.py:262] loss = 1.116581, step = 0\n",
            "I0721 14:23:42.619043 139708533356416 basic_session_run_hooks.py:692] global_step/sec: 118.569\n",
            "I0721 14:23:42.625851 139708533356416 basic_session_run_hooks.py:260] loss = 0.8704752 (0.850 sec)\n",
            "I0721 14:23:42.627732 139708533356416 basic_session_run_hooks.py:260] loss = 0.8704752, step = 100 (0.845 sec)\n",
            "I0721 14:23:43.416610 139708533356416 basic_session_run_hooks.py:692] global_step/sec: 125.389\n",
            "I0721 14:23:43.419761 139708533356416 basic_session_run_hooks.py:260] loss = 0.70755327 (0.794 sec)\n",
            "I0721 14:23:43.423048 139708533356416 basic_session_run_hooks.py:260] loss = 0.70755327, step = 200 (0.795 sec)\n",
            "I0721 14:23:44.211753 139708533356416 basic_session_run_hooks.py:692] global_step/sec: 125.76\n",
            "I0721 14:23:44.216790 139708533356416 basic_session_run_hooks.py:260] loss = 0.7093733 (0.797 sec)\n",
            "I0721 14:23:44.219512 139708533356416 basic_session_run_hooks.py:260] loss = 0.7093733, step = 300 (0.797 sec)\n",
            "I0721 14:23:45.012673 139708533356416 basic_session_run_hooks.py:692] global_step/sec: 124.853\n",
            "I0721 14:23:45.020793 139708533356416 basic_session_run_hooks.py:260] loss = 0.66754514 (0.804 sec)\n",
            "I0721 14:23:45.023049 139708533356416 basic_session_run_hooks.py:260] loss = 0.66754514, step = 400 (0.804 sec)\n",
            "I0721 14:23:45.757162 139708533356416 basic_session_run_hooks.py:692] global_step/sec: 134.315\n",
            "I0721 14:23:45.763481 139708533356416 basic_session_run_hooks.py:260] loss = 0.4470959 (0.743 sec)\n",
            "I0721 14:23:45.765037 139708533356416 basic_session_run_hooks.py:260] loss = 0.4470959, step = 500 (0.742 sec)\n",
            "I0721 14:23:46.600978 139708533356416 basic_session_run_hooks.py:692] global_step/sec: 118.512\n",
            "I0721 14:23:46.607280 139708533356416 basic_session_run_hooks.py:260] loss = 0.3457666 (0.844 sec)\n",
            "I0721 14:23:46.609210 139708533356416 basic_session_run_hooks.py:260] loss = 0.3457666, step = 600 (0.844 sec)\n",
            "I0721 14:23:47.371881 139708533356416 basic_session_run_hooks.py:692] global_step/sec: 129.716\n",
            "I0721 14:23:47.374748 139708533356416 basic_session_run_hooks.py:260] loss = 0.17082678 (0.767 sec)\n",
            "I0721 14:23:47.377276 139708533356416 basic_session_run_hooks.py:260] loss = 0.17082678, step = 700 (0.768 sec)\n",
            "I0721 14:23:48.306751 139708533356416 basic_session_run_hooks.py:692] global_step/sec: 106.969\n",
            "I0721 14:23:48.312466 139708533356416 basic_session_run_hooks.py:260] loss = 0.20614868 (0.938 sec)\n",
            "I0721 14:23:48.315641 139708533356416 basic_session_run_hooks.py:260] loss = 0.20614868, step = 800 (0.938 sec)\n",
            "I0721 14:23:49.074514 139708533356416 basic_session_run_hooks.py:692] global_step/sec: 130.255\n",
            "I0721 14:23:49.081374 139708533356416 basic_session_run_hooks.py:260] loss = 0.1797145 (0.769 sec)\n",
            "I0721 14:23:49.083667 139708533356416 basic_session_run_hooks.py:260] loss = 0.1797145, step = 900 (0.768 sec)\n",
            "I0721 14:23:49.835075 139708533356416 basic_session_run_hooks.py:606] Saving checkpoints for 1000 into /tmp/tmpg9mf8_mq/model.ckpt.\n",
            "I0721 14:23:50.035742 139708533356416 estimator.py:368] Loss for final step: 0.15111671.\n"
          ],
          "name": "stderr"
        },
        {
          "output_type": "execute_result",
          "data": {
            "text/plain": [
              "<tensorflow_estimator.python.estimator.estimator.Estimator at 0x7f100be976d8>"
            ]
          },
          "metadata": {
            "tags": []
          },
          "execution_count": 53
        }
      ]
    },
    {
      "cell_type": "code",
      "metadata": {
        "id": "XECxfQxV_RLo",
        "colab_type": "code",
        "outputId": "6a6a7697-98ce-4364-e743-993017ec8f04",
        "colab": {
          "base_uri": "https://localhost:8080/",
          "height": 241
        }
      },
      "source": [
        "eval_ = classifier.evaluate(\n",
        "    input_fn = test_fn,\n",
        "    steps = 1,\n",
        ")\n",
        "print('Accuracy is {}'.format(eval_['accuracy']))"
      ],
      "execution_count": 0,
      "outputs": [
        {
          "output_type": "stream",
          "text": [
            "I0721 14:23:50.106303 139708533356416 estimator.py:1145] Calling model_fn.\n",
            "I0721 14:23:50.272496 139708533356416 estimator.py:1147] Done calling model_fn.\n",
            "I0721 14:23:50.309152 139708533356416 evaluation.py:255] Starting evaluation at 2019-07-21T14:23:50Z\n",
            "I0721 14:23:50.426691 139708533356416 monitored_session.py:240] Graph was finalized.\n",
            "I0721 14:23:50.445319 139708533356416 saver.py:1280] Restoring parameters from /tmp/tmpg9mf8_mq/model.ckpt-1000\n",
            "I0721 14:23:50.530583 139708533356416 session_manager.py:500] Running local_init_op.\n",
            "I0721 14:23:50.561573 139708533356416 session_manager.py:502] Done running local_init_op.\n",
            "I0721 14:23:50.653817 139708533356416 evaluation.py:167] Evaluation [1/1]\n",
            "I0721 14:23:50.688229 139708533356416 evaluation.py:275] Finished evaluation at 2019-07-21-14:23:50\n",
            "I0721 14:23:50.690281 139708533356416 estimator.py:2039] Saving dict for global step 1000: accuracy = 0.78125, global_step = 1000, loss = 2.995279\n",
            "I0721 14:23:50.763777 139708533356416 estimator.py:2099] Saving 'checkpoint_path' summary for global step 1000: /tmp/tmpg9mf8_mq/model.ckpt-1000\n"
          ],
          "name": "stderr"
        },
        {
          "output_type": "stream",
          "text": [
            "Accuracy is 0.78125\n"
          ],
          "name": "stdout"
        }
      ]
    }
  ]
}